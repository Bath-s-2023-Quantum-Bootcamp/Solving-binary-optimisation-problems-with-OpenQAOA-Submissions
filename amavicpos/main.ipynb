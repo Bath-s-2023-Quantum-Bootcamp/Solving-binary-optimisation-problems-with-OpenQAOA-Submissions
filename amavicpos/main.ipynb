{
 "cells": [
  {
   "cell_type": "code",
   "execution_count": 18,
   "metadata": {},
   "outputs": [],
   "source": [
    "from openqaoa.problems import QUBO\n",
    "from openqaoa import QAOA"
   ]
  },
  {
   "attachments": {},
   "cell_type": "markdown",
   "metadata": {},
   "source": [
    "### DESCRIPTION OF THE PROBLEM\n",
    "This is a simple example of a QUBO problem (Quadratic Unconstrained Binary Optimization).\n",
    "\\begin{align}\n",
    "y = -5x_0 -3x_1 -8x_2 -6x_3 +4x_0x_1 +8x_0x_2 +2x_1x_2 +10x_2x_3\n",
    "\\end{align}\n",
    "\n",
    "Matrix form:\n",
    "\n",
    "Since binary variables satisfy $x_i = x_i^2$:\n",
    "\\begin{align}\n",
    "        y =\n",
    "        (x_0 \\; x_1 \\; x_2 \\; x_3)\n",
    "        \\begin{pmatrix}\n",
    "            -5 & 2 & 4 & 0\\\\ \n",
    "            2 & -3 & 1 & 0\\\\\n",
    "            4 & 1 & -8 & 5\\\\\n",
    "            0 & 0 & 5 & -6\n",
    "        \\end{pmatrix}\n",
    "        \\begin{pmatrix}\n",
    "            x_0 \\\\ x_1 \\\\ x_2 \\\\ x_3\n",
    "        \\end{pmatrix}\n",
    "        =\n",
    "        \\textbf{x$^\\textbf{T}$Qx}\n",
    "        \\tag{2}\n",
    "\\end{align}\n",
    "\n",
    "\\begin{align}\n",
    "y^{*} = \\min y \\tag{3}\n",
    "\\end{align}\n",
    "\n",
    "\\begin{align}\n",
    "\\textbf{x}^{\\textbf{*}} = \\arg \\min y \\tag{4}\n",
    "\\end{align}\n",
    "\n",
    "In the case of graph colouring, the quadratic terms are zero, since there are no loops. Once got the cost function, the solution would be calculated similarly to this. Because of lack of time, I did not create the function of the cost function/calculated the weights numerically."
   ]
  },
  {
   "cell_type": "code",
   "execution_count": 19,
   "metadata": {},
   "outputs": [
    {
     "data": {
      "text/plain": [
       "{'terms': [[0, 1], [0, 2], [0, 3], [1, 2], [1, 3], [2, 3], [0], [1], [2], [3]],\n",
       " 'weights': [4.0, 8.0, 0.0, 2.0, 0.0, 10.0, -5.0, -3.0, -8.0, -6.0],\n",
       " 'constant': 0,\n",
       " 'n': 4,\n",
       " 'problem_instance': {'problem_type': 'generic_qubo'},\n",
       " 'metadata': {}}"
      ]
     },
     "execution_count": 19,
     "metadata": {},
     "output_type": "execute_result"
    }
   ],
   "source": [
    "x0x1, x0x2, x0x3, x1x2, x1x3, x2x3, x0, x1, x2, x3 = 4, 8, 0, 2, 0, 10, -5, -3, -8, -6\n",
    "\n",
    "qubo_problem = QUBO(n=4, terms=[[0, 1], [0, 2], [0, 3], [1, 2], [1, 3], [2, 3], [0], [1], [2], [3]], weights=[x0x1, x0x2, x0x3, x1x2, x1x3, x2x3, x0, x1, x2, x3])\n",
    "qubo_problem.asdict()"
   ]
  },
  {
   "attachments": {},
   "cell_type": "markdown",
   "metadata": {},
   "source": [
    "The solution to the equations 3 and 4 are: $y^*$ = -11, $x_0^*$ = $x_3^*$ = 1, $x_1^*$ = $x_2^*$ = 0.\n",
    "\n",
    "Solving the problem with QAOA in a Quantum Simulator:"
   ]
  },
  {
   "cell_type": "code",
   "execution_count": 20,
   "metadata": {},
   "outputs": [
    {
     "data": {
      "image/png": "[encoded data removed]",
      "text/plain": [
       "<Figure size 720x576 with 1 Axes>"
      ]
     },
     "metadata": {
      "needs_background": "light"
     },
     "output_type": "display_data"
    }
   ],
   "source": [
    "q = QAOA()\n",
    "q.compile(qubo_problem)\n",
    "q.optimize()\n",
    "result = q.result\n",
    "result.plot_cost()"
   ]
  },
  {
   "cell_type": "code",
   "execution_count": 21,
   "metadata": {},
   "outputs": [
    {
     "data": {
      "text/plain": [
       "{'angles': [1.243729362954, 0.340245636307],\n",
       " 'cost': -1.720743265023,\n",
       " 'measurement_outcomes': array([-0.12864806+0.10612882j, -0.09740045+0.21169534j,\n",
       "        -0.03200846+0.03879354j, -0.03902651+0.14660317j,\n",
       "        -0.12930469-0.11503485j,  0.00699163-0.07406441j,\n",
       "         0.160736  +0.29802834j, -0.0941285 +0.14185505j,\n",
       "         0.21362316+0.10500403j,  0.44907972+0.06726187j,\n",
       "         0.07424044+0.23259368j,  0.19794531+0.05813571j,\n",
       "         0.16813648+0.19127032j,  0.05549009+0.00557399j,\n",
       "         0.02316411-0.43732588j,  0.24970117-0.16148j   ]),\n",
       " 'job_id': '1729f0da-1c44-43ff-8067-225f5e277850',\n",
       " 'eval_number': 100}"
      ]
     },
     "execution_count": 21,
     "metadata": {},
     "output_type": "execute_result"
    }
   ],
   "source": [
    "result.optimized"
   ]
  },
  {
   "cell_type": "code",
   "execution_count": 22,
   "metadata": {},
   "outputs": [
    {
     "data": {
      "text/plain": [
       "{'solutions_bitstrings': ['1001'], 'bitstring_energy': -20.0}"
      ]
     },
     "execution_count": 22,
     "metadata": {},
     "output_type": "execute_result"
    }
   ],
   "source": [
    "result.most_probable_states"
   ]
  }
 ],
 "metadata": {
  "kernelspec": {
   "display_name": "Python 3",
   "language": "python",
   "name": "python3"
  },
  "language_info": {
   "codemirror_mode": {
    "name": "ipython",
    "version": 3
   },
   "file_extension": ".py",
   "mimetype": "text/x-python",
   "name": "python",
   "nbconvert_exporter": "python",
   "pygments_lexer": "ipython3",
   "version": "3.10.2"
  },
  "orig_nbformat": 4,
  "vscode": {
   "interpreter": {
    "hash": "80296d27c04b7cd07892af9725f2f3128fc20f4920bcbe29184cced2d64c25d6"
   }
  }
 },
 "nbformat": 4,
 "nbformat_minor": 2
}
